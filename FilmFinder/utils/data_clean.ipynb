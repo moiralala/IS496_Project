{
 "cells": [
  {
   "cell_type": "markdown",
   "metadata": {},
   "source": [
    "Data Clean\n",
    "\n",
    "The data source website:\n",
    "https://www.imdb.com/?ref_=nv_home\n",
    "\n",
    "The instruction of Cinemagoer:\n",
    "https://cinemagoer.readthedocs.io/en/latest/"
   ]
  },
  {
   "cell_type": "code",
   "execution_count": 1,
   "metadata": {},
   "outputs": [],
   "source": [
    "from imdb import Cinemagoer"
   ]
  },
  {
   "cell_type": "code",
   "execution_count": 2,
   "metadata": {},
   "outputs": [],
   "source": [
    "# create an instance of the Cinemagoer class\n",
    "ia = Cinemagoer()"
   ]
  },
  {
   "cell_type": "code",
   "execution_count": null,
   "metadata": {},
   "outputs": [],
   "source": [
    "#advanced search\n",
    "\n",
    "from imdb import IMDb\n",
    "import logging\n",
    "\n",
    "# Set up basic configuration for logging\n",
    "# logging.basicConfig(level=logging.DEBUG, format='%(asctime)s - %(levelname)s - %(message)s')\n",
    "\n",
    "ia = IMDb()\n",
    "\n",
    "def advanced_search_movies_and_actors(criteria):\n",
    "    name = criteria.get('name')\n",
    "    genre = criteria.get('genre')\n",
    "    year = criteria.get('year')\n",
    "    cast_member = criteria.get('cast')\n",
    "\n",
    "    # Search for both movies and people\n",
    "    movie_results = ia.search_movie(name) if name else []\n",
    "    actor_results = ia.search_person(name) if name else []\n",
    "\n",
    "    detailed_movies = []\n",
    "    detailed_actors = []\n",
    "\n",
    "    # Process movie results\n",
    "    for movie in movie_results:\n",
    "        try:\n",
    "            movie_id = movie.movieID\n",
    "            movie_details = ia.get_movie(movie_id)\n",
    "            # Filter by genre and year\n",
    "            if (genre and genre not in movie_details.get('genres', [])) or \\\n",
    "               (year and str(year) != str(movie_details.get('year', ''))):\n",
    "                continue\n",
    "\n",
    "            # Check for specific cast members\n",
    "            cast_names = [person['name'] for person in movie_details.get('cast', [])[:3] if 'name' in person]\n",
    "            if cast_member and cast_member not in cast_names:\n",
    "                continue\n",
    "\n",
    "            detailed_movies.append({\n",
    "                'title': movie_details.get('title'),\n",
    "                'year': movie_details.get('year'),\n",
    "                'genre': movie_details.get('genres'),\n",
    "                'rating': movie_details.get('rating'),\n",
    "                'cast': cast_names,\n",
    "                'plot': movie_details.get('plot outline'),\n",
    "                'movie_id': movie_id\n",
    "            })\n",
    "        except Exception as e:\n",
    "            logging.error(\"Error fetching movie details for ID %s: %s\", movie.movieID, e)\n",
    "\n",
    "    # Process actor results\n",
    "    for actor in actor_results:\n",
    "        try:\n",
    "            actor_id = actor.personID\n",
    "            actor_details = ia.get_person(actor_id)\n",
    "            # Optionally filter actor results if needed\n",
    "\n",
    "            detailed_actors.append({\n",
    "                'name': actor_details.get('name'),\n",
    "                'actor_id': actor_id,\n",
    "                'biography': actor_details.get('mini biography', []),\n",
    "                'filmography': [film['title'] for film in actor_details.get('filmography', {}).get('actor', [])][:3]\n",
    "            })\n",
    "        except Exception as e:\n",
    "            logging.error(\"Error fetching actor details for ID %s: %s\", actor.personID, e)\n",
    "\n",
    "    return {\n",
    "        'Movies': detailed_movies,\n",
    "        'Actors': detailed_actors\n",
    "    }\n",
    "\n",
    "# Example criteria for a search that could apply to both movies and actors\n",
    "criteria = {'name': 'Brad Pitt'}\n",
    "results = advanced_search_movies_and_actors(criteria)\n",
    "print(results)\n"
   ]
  },
  {
   "cell_type": "code",
   "execution_count": 3,
   "metadata": {},
   "outputs": [
    {
     "name": "stdout",
     "output_type": "stream",
     "text": [
      "['__class__', '__delattr__', '__dict__', '__dir__', '__doc__', '__eq__', '__format__', '__ge__', '__getattribute__', '__gt__', '__hash__', '__init__', '__init_subclass__', '__le__', '__lt__', '__module__', '__ne__', '__new__', '__reduce__', '__reduce_ex__', '__repr__', '__setattr__', '__sizeof__', '__str__', '__subclasshook__', '__weakref__', '_defModFunct', '_getRefs', '_get_infoset', '_get_keyword', '_get_list_content', '_get_movie_list', '_get_real_characterID', '_get_real_companyID', '_get_real_movieID', '_get_real_personID', '_get_search_content', '_get_search_movie_advanced_content', '_get_showtimes', '_get_top_bottom_movies', '_get_top_movies_or_tv_by_genres', '_http_logger', '_keywordsResults', '_mdparse', '_normalize_characterID', '_normalize_companyID', '_normalize_movieID', '_normalize_personID', '_purge_seasons_data', '_reraise_exceptions', '_results', '_retrieve', '_searchIMDb', '_search_character', '_search_company', '_search_episode', '_search_keyword', '_search_movie', '_search_movie_advanced', '_search_person', 'accessSystem', 'character2imdbID', 'compProxy', 'company2imdbID', 'del_cookies', 'do_adult_search', 'get_bottom100_movies', 'get_boxoffice_movies', 'get_character', 'get_character_infoset', 'get_company', 'get_company_infoset', 'get_company_main', 'get_episode', 'get_imdbCharacterID', 'get_imdbCompanyID', 'get_imdbID', 'get_imdbMovieID', 'get_imdbPersonID', 'get_imdbURL', 'get_keyword', 'get_movie', 'get_movie_airing', 'get_movie_akas', 'get_movie_alternate_versions', 'get_movie_awards', 'get_movie_connections', 'get_movie_crazy_credits', 'get_movie_critic_reviews', 'get_movie_episodes', 'get_movie_external_reviews', 'get_movie_external_sites', 'get_movie_faqs', 'get_movie_full_credits', 'get_movie_goofs', 'get_movie_infoset', 'get_movie_keywords', 'get_movie_list', 'get_movie_locations', 'get_movie_main', 'get_movie_misc_sites', 'get_movie_news', 'get_movie_official_sites', 'get_movie_parents_guide', 'get_movie_photo_sites', 'get_movie_plot', 'get_movie_quotes', 'get_movie_recommendations', 'get_movie_release_dates', 'get_movie_release_info', 'get_movie_reviews', 'get_movie_sound_clips', 'get_movie_soundtrack', 'get_movie_synopsis', 'get_movie_taglines', 'get_movie_technical', 'get_movie_trivia', 'get_movie_tv_schedule', 'get_movie_video_clips', 'get_movie_vote_details', 'get_person', 'get_person_awards', 'get_person_biography', 'get_person_filmography', 'get_person_genres_links', 'get_person_infoset', 'get_person_keywords_links', 'get_person_main', 'get_person_news', 'get_person_official_sites', 'get_person_other_works', 'get_person_publicity', 'get_popular100_movies', 'get_popular100_tv', 'get_proxy', 'get_showtimes', 'get_special_methods', 'get_top250_indian_movies', 'get_top250_movies', 'get_top250_tv', 'get_top50_movies_by_genres', 'get_top50_tv_by_genres', 'listProxy', 'mProxy', 'name2imdbID', 'new_character', 'new_company', 'new_movie', 'new_person', 'pProxy', 'scompProxy', 'search_character', 'search_company', 'search_episode', 'search_keyword', 'search_movie', 'search_movie_advanced', 'search_person', 'set_cookies', 'set_imdb_urls', 'set_proxy', 'set_timeout', 'skProxy', 'smProxy', 'smaProxy', 'spProxy', 'stimesProxy', 'title2imdbID', 'topBottomProxy', 'update', 'update_series_seasons', 'urlOpener', 'urls']\n"
     ]
    }
   ],
   "source": [
    "print(dir(ia))"
   ]
  },
  {
   "cell_type": "markdown",
   "metadata": {},
   "source": [
    "Essential Function\n"
   ]
  },
  {
   "cell_type": "markdown",
   "metadata": {},
   "source": [
    "Search"
   ]
  },
  {
   "cell_type": "code",
   "execution_count": 4,
   "metadata": {},
   "outputs": [
    {
     "data": {
      "text/plain": [
       "[<Movie id:23137904[http] title:_Rebel Moon - Part Two: The Scargiver (2024)_>,\n",
       " <Movie id:14998742[http] title:_Rebel Moon - Part One: A Child of Fire (2023)_>,\n",
       " <Movie id:5537002[http] title:_Killers of the Flower Moon (2023)_>,\n",
       " <Movie id:1896747[http] title:_Fly Me to the Moon (2024)_>,\n",
       " <Movie id:1182345[http] title:_Moon (2009)_>,\n",
       " <Movie id:10234724[http] title:_\"Moon Knight\" (2022) (mini)_>,\n",
       " <Movie id:1399103[http] title:_Transformers: Dark of the Moon (2011)_>,\n",
       " <Movie id:0104779[http] title:_Bitter Moon (1992)_>,\n",
       " <Movie id:27688034[http] title:_The Moon (2023)_>,\n",
       " <Movie id:8110640[http] title:_In the Shadow of the Moon (2019)_>,\n",
       " <Movie id:5320412[http] title:_\"Moon Lovers: Scarlet Heart Ryeo\" (2016)_>,\n",
       " <Movie id:1259571[http] title:_The Twilight Saga: New Moon (2009)_>,\n",
       " <Movie id:0096324[http] title:_Two Moon Junction (1988)_>,\n",
       " <Movie id:0070510[http] title:_Paper Moon (1973)_>,\n",
       " <Movie id:28741495[http] title:_Moon Maidens (2023)_>,\n",
       " <Movie id:0125664[http] title:_Man on the Moon (1999)_>,\n",
       " <Movie id:8041658[http] title:_\"Moon Girl and Devil Dinosaur\" (2023)_>,\n",
       " <Movie id:0102388[http] title:_The Man in the Moon (1991)_>,\n",
       " <Movie id:0103369[http] title:_\"Sailor Moon\" (1997) (1992)_>,\n",
       " <Movie id:0120613[http] title:_A Walk on the Moon (1999)_>]"
      ]
     },
     "execution_count": 4,
     "metadata": {},
     "output_type": "execute_result"
    }
   ],
   "source": [
    "#search by name\n",
    "ia.search_movie('moon')"
   ]
  },
  {
   "cell_type": "code",
   "execution_count": 5,
   "metadata": {},
   "outputs": [
    {
     "data": {
      "text/plain": [
       "[<Person id:2810287[http] name:_David Dastmalchian_>,\n",
       " <Person id:4825178[http] name:_David Corenswet_>,\n",
       " <Person id:0855039[http] name:_David Tennant_>,\n",
       " <Person id:0472710[http] name:_David Krumholtz_>,\n",
       " <Person id:0000186[http] name:_David Lynch_>,\n",
       " <Person id:0001650[http] name:_Michael Rapaport_>,\n",
       " <Person id:0000399[http] name:_David Fincher_>,\n",
       " <Person id:1314042[http] name:_Karen David_>,\n",
       " <Person id:0000667[http] name:_David Thewlis_>,\n",
       " <Person id:0004929[http] name:_David Foley_>,\n",
       " <Person id:0333701[http] name:_David Graf_>,\n",
       " <Person id:1092086[http] name:_David Harbour_>,\n",
       " <Person id:0000343[http] name:_David Cronenberg_>,\n",
       " <Person id:0500610[http] name:_David Leitch_>,\n",
       " <Person id:0103195[http] name:_David Bradley_>,\n",
       " <Person id:0004770[http] name:_David Boreanaz_>,\n",
       " <Person id:0564724[http] name:_David McCallum_>,\n",
       " <Person id:1256136[http] name:_David McCormack_>,\n",
       " <Person id:0000179[http] name:_Jude Law_>,\n",
       " <Person id:0001016[http] name:_David Carradine_>]"
      ]
     },
     "execution_count": 5,
     "metadata": {},
     "output_type": "execute_result"
    }
   ],
   "source": [
    "#search by character\n",
    "ia.search_person('David')"
   ]
  },
  {
   "cell_type": "code",
   "execution_count": 6,
   "metadata": {},
   "outputs": [
    {
     "name": "stdout",
     "output_type": "stream",
     "text": [
      "[('localized title', 'Moon Knight'), ('cast', [<Person id:1209966[http] name:_Oscar Isaac_>, <Person id:0000160[http] name:_Ethan Hawke_>, <Person id:2790595[http] name:_May Calamawy_>, <Person id:9339750[http] name:_Michael Benjamin Hernandez_>, <Person id:0000719[http] name:_F. Murray Abraham_>, <Person id:2497049[http] name:_Ann Akinjirin_>, <Person id:3183119[http] name:_Karim El Hakim_>, <Person id:0304414[http] name:_David Ganly_>, <Person id:12713943[http] name:_Antonia Salib_>, <Person id:2043234[http] name:_Khalid Abdalla_>, <Person id:0779785[http] name:_Shaun Scott_>, <Person id:4312699[http] name:_Lucy Thackeray_>, <Person id:6946524[http] name:_Díana Bermudez_>, <Person id:5247776[http] name:_Alexander Cobb_>, <Person id:0360426[http] name:_Declan Hannigan_>, <Person id:6447042[http] name:_Hayley Konadu_>, <Person id:5713754[http] name:_Loic Mabanza_>, <Person id:7368334[http] name:_Nagisa Morimoto_>, <Person id:0880484[http] name:_Gaspard Ulliel_>, <Person id:7143061[http] name:_Saffron Hocking_>, <Person id:4141375[http] name:_Saba Mubarak_>, <Person id:1223326[http] name:_Fernanda Andrade_>, <Person id:0742381[http] name:_Barbara Rosenblat_>, <Person id:0787430[http] name:_Darwin Shaw_>, <Person id:1048023[http] name:_Rey Lucas_>, <Person id:9990740[http] name:_Anouk Christiansen_>, <Person id:10961213[http] name:_Terique Jarrett_>, <Person id:8344996[http] name:_Claudio Fabian Contreras_>, <Person id:13531708[http] name:_Nina Mahiri_>, <Person id:12257262[http] name:_Carlos S. Sanchez_>, <Person id:10416929[http] name:_Miriam Nyarko_>, <Person id:8232947[http] name:_Thibault Chiron_>, <Person id:13531709[http] name:_István Mezei_>, <Person id:0546104[http] name:_Fiz Marcus_>, <Person id:4747504[http] name:_Jozsef Fodor_>, <Person id:7962706[http] name:_David Jake Rodriguez_>, <Person id:0590243[http] name:_Joseph Millson_>, <Person id:5073121[http] name:_Gabor Szeman_>, <Person id:13610903[http] name:_Usama Soliman_>, <Person id:13631281[http] name:_Hazem Elessaway_>, <Person id:1273938[http] name:_Lorna Anders_>, <Person id:1992693[http] name:_András Korcsmáros_>, <Person id:12034127[http] name:_Bill Bekele_>, <Person id:13631282[http] name:_Kimo Rady_>, <Person id:3435231[http] name:_Alex Martin_>, <Person id:0618715[http] name:_Jalil Naciri_>, <Person id:0190732[http] name:_Gabriella Csizmadia_>, <Person id:13631283[http] name:_Ahmed Said_>, <Person id:1212533[http] name:_James Bomalick_>, <Person id:2145184[http] name:_Mohamed Elachi_>]), ('genres', ['Action', 'Adventure', 'Fantasy']), ('runtimes', ['48']), ('countries', ['United States']), ('country codes', ['us']), ('language codes', ['en']), ('color info', ['Color']), ('aspect ratio', '2.39 : 1'), ('sound mix', ['Dolby Digital', 'Dolby Atmos']), ('certificates', ['Argentina:14::(Disney+ rating)', 'Australia:M::(self-applied)', 'Brazil:14', 'Canada:TV-14::(self-applied)', 'France:16::(self-applied)', 'Germany:12::(self-applied)', 'Hong Kong:IIA', 'India:UA 13+', 'India:UA 16+', 'Indonesia:13+::(self-applied)', 'Italy:VM16::(self-applied)', 'Japan:15::(self-applied)', 'Mexico:TV-14', 'Netherlands:16::(self-applied)', 'Singapore:PG13', 'South Africa:16+::(self-applied)', 'South Korea:15::(self-applied)', 'Spain:16', 'Sweden:16+::(self-applied)', 'Thailand:13+::(self-applied)', 'United Kingdom:16::(self-applied)', 'United States:TV-14']), ('number of seasons', 1), ('rating', 7.3), ('votes', 269625), ('cover url', 'https://m.media-amazon.com/images/M/MV5BYTc5OWNhYjktMThlOS00ODUxLTgwNDQtZjdjYjkyM2IwZTZlXkEyXkFqcGdeQXVyNTA3MTU2MjE@._V1_SY150_CR0,0,101,150_.jpg'), ('imdbID', '10234724'), ('videos', ['http://www.imdb.com/title/tt10234724/videoplayer/vi1236648473', 'http://www.imdb.com/title/tt10234724/videoplayer/vi2444411417']), ('plot outline', \"The series follows Steven Grant, a mild- mannered gift-shop employee, who becomes plagued with blackouts and memories of another life. Steven discovers he has dissociative identity disorder and shares a body with mercenary Marc Spector. As Steven/Marc's enemies converge upon them, they must navigate their complex identities while thrust into a deadly mystery among the powerful gods of Egypt.\"), ('languages', ['English']), ('title', 'Moon Knight'), ('year', 2022), ('kind', 'tv mini series'), ('series years', '2022-2022'), ('original title', 'Moon Knight'), ('akas', ['Good Faith (United States)', 'Spectorcorp Productions (United States)', 'Caballero Luna (Spain)', 'Moon Knight: Cavaleiro da Lua (Portugal)', 'ムーンナイト (Japan, Japanese title)']), ('seasons', 1), ('writer', [<Person id:10197885[http] name:_Danielle Iman_>, <Person id:10197885[http] name:_Danielle Iman_>, <Person id:2851675[http] name:_Alex Meenehan_>]), ('production companies', [<Company id:0051941[http] name:_Marvel Studios_>]), ('distributors', [<Company id:0721120[http] name:_Disney+_>]), ('special effects', [<Company id:0688006[http] name:_PixStone Images_>, <Company id:0355194[http] name:_Direct Dimensions (DDI)_>, <Company id:0149164[http] name:_FBFX_>, <Company id:0464749[http] name:_Mammal Studios_>, <Company id:0703891[http] name:_Monsters Aliens Robots Zombies_>, <Company id:0373672[http] name:_Perception_>, <Company id:0092169[http] name:_Soho VFX_>, <Company id:0251627[http] name:_Union Visual Effects_>]), ('other companies', [<Company id:0017044[http] name:_ARRI Media_>, <Company id:0565982[http] name:_ARRI Rental_>, <Company id:0565982[http] name:_ARRI Rental_>, <Company id:0069003[http] name:_American Humane Association_>, <Company id:0690108[http] name:_Blackrock Productions_>, <Company id:0033524[http] name:_Central Casting_>, <Company id:0077969[http] name:_Christie Digital Systems_>, <Company id:0467916[http] name:_Creative BC_>, <Company id:0563697[http] name:_Disney Digital Studio Services_>, <Company id:0047023[http] name:_Dolby Laboratories_>, <Company id:0382413[http] name:_GOPOGO_>, <Company id:1045744[http] name:_Green Eyes Production_>, <Company id:0827621[http] name:_HGL Group Hungary_>, <Company id:0690819[http] name:_Hungarian Film Incentives_>, <Company id:0019179[http] name:_Hungarian Film Institute_>, <Company id:0190210[http] name:_International Alliance of Theatrical Stage Employees (IATSE)_>, <Company id:0312382[http] name:_Ministry of Culture, Republic of Slovenia_>, <Company id:0065796[http] name:_New Zealand Film Commission_>, <Company id:0226852[http] name:_One Step Studios_>, <Company id:0719815[http] name:_Ontario Creates_>, <Company id:0898420[http] name:_Picture Shop_>, <Company id:0606853[http] name:_Picture Shop_>, <Company id:0072003[http] name:_Skywalker Sound_>, <Company id:0448611[http] name:_Slovenian Film Center_>, <Company id:0068765[http] name:_State Street Pictures_>, <Company id:0372012[http] name:_The International Brotherhood of Teamsters_>, <Company id:0249859[http] name:_The Royal Film Commission_>, <Company id:0096858[http] name:_Vanguard Management Group_>]), ('plot', [\"Steven Grant discovers he's been granted the powers of an Egyptian moon god. But he soon finds out that these newfound powers can be both a blessing and a curse to his troubled life.\", \"The series follows Steven Grant, a mild- mannered gift-shop employee, who becomes plagued with blackouts and memories of another life. Steven discovers he has dissociative identity disorder and shares a body with mercenary Marc Spector. As Steven/Marc's enemies converge upon them, they must navigate their complex identities while thrust into a deadly mystery among the powerful gods of Egypt.\"]), ('canonical title', 'Moon Knight'), ('long imdb title', '\"Moon Knight\" (2022) (mini)'), ('long imdb canonical title', '\"Moon Knight\" (2022) (mini)'), ('smart canonical title', 'Moon Knight'), ('smart long imdb canonical title', '\"Moon Knight\" (2022) (mini)'), ('full-size cover url', 'https://m.media-amazon.com/images/M/MV5BYTc5OWNhYjktMThlOS00ODUxLTgwNDQtZjdjYjkyM2IwZTZlXkEyXkFqcGdeQXVyNTA3MTU2MjE@.jpg')]\n"
     ]
    }
   ],
   "source": [
    "#get detailed info\n",
    "movie = ia.get_movie('10234724')\n",
    "print(movie.items())"
   ]
  }
 ],
 "metadata": {
  "kernelspec": {
   "display_name": "myenv",
   "language": "python",
   "name": "python3"
  },
  "language_info": {
   "codemirror_mode": {
    "name": "ipython",
    "version": 3
   },
   "file_extension": ".py",
   "mimetype": "text/x-python",
   "name": "python",
   "nbconvert_exporter": "python",
   "pygments_lexer": "ipython3",
   "version": "3.8.19"
  }
 },
 "nbformat": 4,
 "nbformat_minor": 2
}
